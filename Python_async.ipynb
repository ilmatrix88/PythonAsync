{
  "nbformat": 4,
  "nbformat_minor": 0,
  "metadata": {
    "colab": {
      "provenance": [],
      "gpuType": "T4"
    },
    "kernelspec": {
      "name": "python3",
      "display_name": "Python 3"
    },
    "language_info": {
      "name": "python"
    },
    "accelerator": "GPU"
  },
  "cells": [
    {
      "cell_type": "markdown",
      "source": [
        "В данной части урока вам предстоит проверить полученные знания по асинхронному программированию. Для этого проверьте себя: сколько из предложенных задач вы можете решить."
      ],
      "metadata": {
        "id": "5yRf47_CKqOH"
      }
    },
    {
      "cell_type": "markdown",
      "source": [
        "1. **Асинхронный таймер:**\n",
        "   - Напишите программу с использованием `asyncio`, которая в течение определенного времени (например, 10 секунд) выводит сообщение каждую секунду. Используйте `asyncio.sleep` для создания таймера."
      ],
      "metadata": {
        "id": "yQDLe_9hK25n"
      }
    },
    {
      "cell_type": "code",
      "execution_count": null,
      "metadata": {
        "id": "z5dxXwm3FJwS",
        "colab": {
          "base_uri": "https://localhost:8080/"
        },
        "outputId": "501a5177-e92c-4b76-bd76-b7ad30355ca8"
      },
      "outputs": [
        {
          "output_type": "stream",
          "name": "stdout",
          "text": [
            "Прошло 1 секунд\n",
            "Прошло 2 секунд\n",
            "Прошло 3 секунд\n",
            "Прошло 4 секунд\n",
            "Прошло 5 секунд\n",
            "Прошло 6 секунд\n",
            "Прошло 7 секунд\n",
            "Прошло 8 секунд\n",
            "Прошло 9 секунд\n",
            "Прошло 10 секунд\n"
          ]
        }
      ],
      "source": [
        "# ваше решение\n",
        "#\n",
        "import asyncio\n",
        "\n",
        "async def timer(duration):\n",
        "    for i in range(duration):\n",
        "        print(f\"Прошло {i + 1} секунд\")\n",
        "        await asyncio.sleep(1)\n",
        "\n",
        "async def main():\n",
        "    duration = 10  # Время в секундах\n",
        "    await timer(duration)\n",
        "\n",
        "# Запуск асинхронной программыasyncio.run(main())вызывает ошибку\n",
        "await main()"
      ]
    },
    {
      "cell_type": "markdown",
      "source": [
        "2. **Асинхронный калькулятор:**\n",
        "   - Создайте программу, где пользователь может вводить асинхронные математические операции (например, сложение, умножение) в интерактивном режиме. Реализуйте асинхронную обработку ввода."
      ],
      "metadata": {
        "id": "gpR9oBvYLLPU"
      }
    },
    {
      "cell_type": "code",
      "source": [
        "#\n",
        "#Решение\n",
        "#\n",
        "import asyncio\n",
        "\n",
        "async def get_input():\n",
        "    return input(\"Введите математическую операцию (например, 2 + 2): \")\n",
        "\n",
        "async def calculate(operation):\n",
        "    try:\n",
        "        result = eval(operation)\n",
        "        print(f\"Результат: {result}\")\n",
        "    except Exception as e:\n",
        "        print(f\"Ошибка: {e}\")\n",
        "\n",
        "async def main():\n",
        "    while True:\n",
        "        print(\"\\nВведите математическую операцию (например, 2 + 2) или 'exit' для выхода:\")\n",
        "        operation = await get_input()\n",
        "        if operation.lower() == 'exit':\n",
        "            print(\"Выход из программы.\")\n",
        "            break\n",
        "        await calculate(operation)\n",
        "\n",
        "# Запуск асинхронной программы\n",
        "await main()"
      ],
      "metadata": {
        "id": "0n80jta_LEfH",
        "colab": {
          "base_uri": "https://localhost:8080/"
        },
        "outputId": "54c51d2f-a551-4c81-8545-4948f59aa289"
      },
      "execution_count": null,
      "outputs": [
        {
          "output_type": "stream",
          "name": "stdout",
          "text": [
            "\n",
            "Введите математическую операцию (например, 2 + 2) или 'exit' для выхода:\n",
            "Введите математическую операцию (например, 2 + 2): 3+4\n",
            "Результат: 7\n",
            "\n",
            "Введите математическую операцию (например, 2 + 2) или 'exit' для выхода:\n",
            "Введите математическую операцию (например, 2 + 2): 7-2\n",
            "Результат: 5\n",
            "\n",
            "Введите математическую операцию (например, 2 + 2) или 'exit' для выхода:\n",
            "Введите математическую операцию (например, 2 + 2): exit\n",
            "Выход из программы.\n"
          ]
        }
      ]
    },
    {
      "cell_type": "markdown",
      "source": [
        "3. **Асинхронные задачи с обработкой ошибок:**\n",
        "   - Напишите программу, в которой несколько асинхронных задач выполняются параллельно. Включите обработку возможных ошибок в каждой задаче."
      ],
      "metadata": {
        "id": "lzaaNoM3LLsw"
      }
    },
    {
      "cell_type": "code",
      "source": [
        "# ваше решение\n",
        "#\n",
        "#\n",
        "import asyncio\n",
        "\n",
        "async def task1():\n",
        "    print(\"Задача 1 началась\")\n",
        "    await asyncio.sleep(2)\n",
        "    print(\"Задача 1 завершена\")\n",
        "    return 1\n",
        "\n",
        "async def task2():\n",
        "    print(\"Задача 2 началась\")\n",
        "    await asyncio.sleep(1)\n",
        "    raise ValueError(\"Ошибка в задаче 2\")\n",
        "    print(\"Задача 2 завершена\")\n",
        "    return 2\n",
        "\n",
        "async def task3():\n",
        "    print(\"Задача 3 началась\")\n",
        "    await asyncio.sleep(3)\n",
        "    print(\"Задача 3 завершена\")\n",
        "    return 3\n",
        "\n",
        "async def main():\n",
        "    tasks = [task1(), task2(), task3()]\n",
        "    results = []\n",
        "\n",
        "    for future in asyncio.as_completed(tasks):\n",
        "        try:\n",
        "            result = await future\n",
        "            results.append(result)\n",
        "        except Exception as e:\n",
        "            print(f\"Ошибка в задаче: {e}\")\n",
        "\n",
        "    print(\"Все задачи завершены\")\n",
        "    print(f\"Результаты: {results}\")\n",
        "\n",
        "# Запуск асинхронной программы\n",
        "await main()"
      ],
      "metadata": {
        "id": "lM5zcOx4LGck",
        "colab": {
          "base_uri": "https://localhost:8080/"
        },
        "outputId": "621abd38-5d22-440f-f52a-88d7a64ed291"
      },
      "execution_count": null,
      "outputs": [
        {
          "output_type": "stream",
          "name": "stdout",
          "text": [
            "Задача 1 началась\n",
            "Задача 3 началась\n",
            "Задача 2 началась\n",
            "Ошибка в задаче: Ошибка в задаче 2\n",
            "Задача 1 завершена\n",
            "Задача 3 завершена\n",
            "Все задачи завершены\n",
            "Результаты: [1, 3]\n"
          ]
        }
      ]
    },
    {
      "cell_type": "markdown",
      "source": [
        "4. **Асинхронный генератор случайных чисел:**\n",
        "   - Реализуйте асинхронный генератор, который асинхронно возвращает случайные числа. Запустите несколько задач для генерации чисел параллельно."
      ],
      "metadata": {
        "id": "SkYIiSa1LMV5"
      }
    },
    {
      "cell_type": "code",
      "source": [
        "# ваше решение\n",
        "#\n",
        "#\n",
        "import asyncio\n",
        "import random\n",
        "\n",
        "async def random_number_generator(task_id, count):\n",
        "    for _ in range(count):\n",
        "        await asyncio.sleep(random.uniform(0.1, 0.5))  # Имитация задержки\n",
        "        yield random.randint(1, 100), task_id\n",
        "\n",
        "async def consume_generator(generator):\n",
        "    async for number, task_id in generator:\n",
        "        print(f\"Задача {task_id}: Сгенерировано число {number}\")\n",
        "\n",
        "async def main():\n",
        "    tasks = [\n",
        "        consume_generator(random_number_generator(1, 5)),\n",
        "        consume_generator(random_number_generator(2, 5)),\n",
        "        consume_generator(random_number_generator(3, 5))\n",
        "    ]\n",
        "\n",
        "    await asyncio.gather(*tasks)\n",
        "\n",
        "# Запуск асинхронной программы\n",
        "await main()"
      ],
      "metadata": {
        "id": "hFBJYNLxLGOy",
        "colab": {
          "base_uri": "https://localhost:8080/"
        },
        "outputId": "c4018678-d934-4c10-9aad-96262f0eb70c"
      },
      "execution_count": null,
      "outputs": [
        {
          "output_type": "stream",
          "name": "stdout",
          "text": [
            "Задача 3: Сгенерировано число 34\n",
            "Задача 1: Сгенерировано число 37\n",
            "Задача 2: Сгенерировано число 21\n",
            "Задача 3: Сгенерировано число 45\n",
            "Задача 1: Сгенерировано число 62\n",
            "Задача 3: Сгенерировано число 28\n",
            "Задача 2: Сгенерировано число 78\n",
            "Задача 1: Сгенерировано число 36\n",
            "Задача 3: Сгенерировано число 23\n",
            "Задача 2: Сгенерировано число 49\n",
            "Задача 1: Сгенерировано число 94\n",
            "Задача 3: Сгенерировано число 1\n",
            "Задача 1: Сгенерировано число 61\n",
            "Задача 2: Сгенерировано число 93\n",
            "Задача 2: Сгенерировано число 35\n"
          ]
        }
      ]
    },
    {
      "cell_type": "markdown",
      "source": [
        "5. **Асинхронный поиск файлов:**\n",
        "   - Напишите программу, которая асинхронно ищет файлы определенного типа в указанном каталоге. Обработайте результаты поиска."
      ],
      "metadata": {
        "id": "MnDTSinuLMxM"
      }
    },
    {
      "cell_type": "code",
      "source": [
        "# ваше решение\n",
        "#\n",
        "#\n",
        "import asyncio\n",
        "import os\n",
        "\n",
        "async def find_files(directory, file_type):\n",
        "    for root, dirs, files in os.walk(directory):\n",
        "        for file in files:\n",
        "            if file.endswith(file_type):\n",
        "                yield os.path.join(root, file)\n",
        "        await asyncio.sleep(0)  # Позволяет другим задачам выполняться\n",
        "\n",
        "async def main():\n",
        "    directory = input(\"Введите путь к каталогу: \")\n",
        "    file_type = input(\"Введите тип файла (например, '.txt'): \")\n",
        "\n",
        "    async for file_path in find_files(directory, file_type):\n",
        "        print(f\"Найден файл: {file_path}\")\n",
        "\n",
        "# Запуск асинхронной программы\n",
        "await main()"
      ],
      "metadata": {
        "id": "qlcoMYBzLGES",
        "colab": {
          "base_uri": "https://localhost:8080/"
        },
        "outputId": "1a08a0e3-e520-4169-a5d0-5621e65cfbb1"
      },
      "execution_count": null,
      "outputs": [
        {
          "name": "stdout",
          "output_type": "stream",
          "text": [
            "Введите путь к каталогу: /path/to/directory\n",
            "Введите тип файла (например, '.txt'): .txt\n"
          ]
        }
      ]
    },
    {
      "cell_type": "markdown",
      "source": [
        "6. **Асинхронный кэш:**\n",
        "   - Создайте простой асинхронный кэш, который позволяет асинхронно добавлять и получать значения по ключу. Проверьте его работу в параллельных задачах."
      ],
      "metadata": {
        "id": "NW9vUmQgLNR7"
      }
    },
    {
      "cell_type": "code",
      "source": [
        "# ваше решение\n",
        "#\n",
        "#\n",
        "import asyncio\n",
        "\n",
        "class AsyncCache:\n",
        "    def __init__(self):\n",
        "        self.cache = {}\n",
        "        self.lock = asyncio.Lock()\n",
        "\n",
        "    async def add(self, key, value):\n",
        "        async with self.lock:\n",
        "            self.cache[key] = value\n",
        "            print(f\"Добавлено значение '{value}' по ключу '{key}'\")\n",
        "\n",
        "    async def get(self, key):\n",
        "        async with self.lock:\n",
        "            value = self.cache.get(key)\n",
        "            if value is not None:\n",
        "                print(f\"Получено значение '{value}' по ключу '{key}'\")\n",
        "            else:\n",
        "                print(f\"Значение по ключу '{key}' не найдено\")\n",
        "            return value\n",
        "\n",
        "async def task_add(cache, key, value):\n",
        "    await cache.add(key, value)\n",
        "\n",
        "async def task_get(cache, key):\n",
        "    await cache.get(key)\n",
        "\n",
        "async def main():\n",
        "    cache = AsyncCache()\n",
        "\n",
        "    tasks = [\n",
        "        task_add(cache, 'key1', 'value1'),\n",
        "        task_add(cache, 'key2', 'value2'),\n",
        "        task_get(cache, 'key1'),\n",
        "        task_get(cache, 'key3'),\n",
        "        task_add(cache, 'key3', 'value3'),\n",
        "        task_get(cache, 'key3')\n",
        "    ]\n",
        "\n",
        "    await asyncio.gather(*tasks)\n",
        "\n",
        "# Запуск асинхронной программы\n",
        "await main()"
      ],
      "metadata": {
        "id": "GEPZQD40LF6b",
        "colab": {
          "base_uri": "https://localhost:8080/"
        },
        "outputId": "53083602-092f-4367-cc22-b7d67086333c"
      },
      "execution_count": null,
      "outputs": [
        {
          "output_type": "stream",
          "name": "stdout",
          "text": [
            "Добавлено значение 'value1' по ключу 'key1'\n",
            "Добавлено значение 'value2' по ключу 'key2'\n",
            "Получено значение 'value1' по ключу 'key1'\n",
            "Значение по ключу 'key3' не найдено\n",
            "Добавлено значение 'value3' по ключу 'key3'\n",
            "Получено значение 'value3' по ключу 'key3'\n"
          ]
        }
      ]
    },
    {
      "cell_type": "markdown",
      "source": [
        "7. **Асинхронный счетчик:**\n",
        "   - Создайте асинхронный счетчик, который можно увеличивать и уменьшать из разных задач параллельно. Обеспечьте синхронный доступ к счетчику."
      ],
      "metadata": {
        "id": "6OBVsCqxLOF4"
      }
    },
    {
      "cell_type": "code",
      "source": [
        "# ваше решение\n",
        "#\n",
        "#\n",
        "import asyncio\n",
        "\n",
        "class AsyncCounter:\n",
        "    def __init__(self):\n",
        "        self.value = 0\n",
        "        self.lock = asyncio.Lock()\n",
        "\n",
        "    async def increment(self):\n",
        "        async with self.lock:\n",
        "            self.value += 1\n",
        "            print(f\"Счетчик увеличен: {self.value}\")\n",
        "\n",
        "    async def decrement(self):\n",
        "        async with self.lock:\n",
        "            self.value -= 1\n",
        "            print(f\"Счетчик уменьшен: {self.value}\")\n",
        "\n",
        "    async def get_value(self):\n",
        "        async with self.lock:\n",
        "            return self.value\n",
        "\n",
        "async def task_increment(counter, times):\n",
        "    for _ in range(times):\n",
        "        await counter.increment()\n",
        "        await asyncio.sleep(0.1)  # Имитация задержки\n",
        "\n",
        "async def task_decrement(counter, times):\n",
        "    for _ in range(times):\n",
        "        await counter.decrement()\n",
        "        await asyncio.sleep(0.1)  # Имитация задержки\n",
        "\n",
        "async def main():\n",
        "    counter = AsyncCounter()\n",
        "\n",
        "    tasks = [\n",
        "        task_increment(counter, 5),\n",
        "        task_decrement(counter, 3),\n",
        "        task_increment(counter, 4),\n",
        "        task_decrement(counter, 2)\n",
        "    ]\n",
        "\n",
        "    await asyncio.gather(*tasks)\n",
        "\n",
        "    final_value = await counter.get_value()\n",
        "    print(f\"Итоговое значение счетчика: {final_value}\")\n",
        "\n",
        "# Запуск асинхронной программы\n",
        "await main()"
      ],
      "metadata": {
        "id": "K45f9pxyLFo5",
        "colab": {
          "base_uri": "https://localhost:8080/"
        },
        "outputId": "a2c20288-3f6a-4dcc-aaf7-8e5e23577981"
      },
      "execution_count": null,
      "outputs": [
        {
          "output_type": "stream",
          "name": "stdout",
          "text": [
            "Счетчик увеличен: 1\n",
            "Счетчик уменьшен: 0\n",
            "Счетчик увеличен: 1\n",
            "Счетчик уменьшен: 0\n",
            "Счетчик увеличен: 1\n",
            "Счетчик уменьшен: 0\n",
            "Счетчик увеличен: 1\n",
            "Счетчик уменьшен: 0\n",
            "Счетчик увеличен: 1\n",
            "Счетчик уменьшен: 0\n",
            "Счетчик увеличен: 1\n",
            "Счетчик увеличен: 2\n",
            "Счетчик увеличен: 3\n",
            "Счетчик увеличен: 4\n",
            "Итоговое значение счетчика: 4\n"
          ]
        }
      ]
    },
    {
      "cell_type": "markdown",
      "source": [
        "8. **Асинхронные задачи с ожиданием завершения:**\n",
        "    - Напишите программу, где одна асинхронная задача запускает другие асинхронные задачи и ожидает их завершения. Проверьте, что задачи выполняются параллельно."
      ],
      "metadata": {
        "id": "Y8UPtbgILOgc"
      }
    },
    {
      "cell_type": "code",
      "source": [
        "# ваше решение\n",
        "#\n",
        "#\n",
        "import asyncio\n",
        "import random\n",
        "\n",
        "async def worker(task_id, duration):\n",
        "    print(f\"Задача {task_id} началась\")\n",
        "    await asyncio.sleep(duration)\n",
        "    print(f\"Задача {task_id} завершена\")\n",
        "    return task_id\n",
        "\n",
        "async def main():\n",
        "    tasks = []\n",
        "    for i in range(1, 6):\n",
        "        duration = random.uniform(1, 3)  # Случайная длительность задачи\n",
        "        task = asyncio.create_task(worker(i, duration))\n",
        "        tasks.append(task)\n",
        "\n",
        "    print(\"Запуск всех задач\")\n",
        "    results = await asyncio.gather(*tasks)\n",
        "    print(\"Все задачи завершены\")\n",
        "    print(f\"Результаты: {results}\")\n",
        "\n",
        "# Запуск асинхронной программы\n",
        "await main()"
      ],
      "metadata": {
        "id": "dBhNo6pRLFer",
        "colab": {
          "base_uri": "https://localhost:8080/"
        },
        "outputId": "38e55c51-c435-4170-dbb3-81ed5ed83485"
      },
      "execution_count": null,
      "outputs": [
        {
          "output_type": "stream",
          "name": "stdout",
          "text": [
            "Запуск всех задач\n",
            "Задача 1 началась\n",
            "Задача 2 началась\n",
            "Задача 3 началась\n",
            "Задача 4 началась\n",
            "Задача 5 началась\n",
            "Задача 1 завершена\n",
            "Задача 2 завершена\n",
            "Задача 5 завершена\n",
            "Задача 4 завершена\n",
            "Задача 3 завершена\n",
            "Все задачи завершены\n",
            "Результаты: [1, 2, 3, 4, 5]\n"
          ]
        }
      ]
    }
  ]
}